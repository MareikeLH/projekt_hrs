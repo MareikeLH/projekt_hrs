{
 "cells": [
  {
   "cell_type": "markdown",
   "id": "eeb55515-6bdf-478a-b62d-79abfb8bde89",
   "metadata": {},
   "source": [
    "## Überblick Datensatz"
   ]
  },
  {
   "cell_type": "code",
   "execution_count": 1,
   "id": "918610da-f79e-48aa-8f49-70168035af7e",
   "metadata": {},
   "outputs": [],
   "source": [
    "import pandas as pd\n",
    "import numpy as np\n",
    "import os\n",
    "import sweetviz as sv\n",
    "import seaborn as sns\n",
    "from matplotlib import pyplot as plt\n",
    "import statsmodels.formula.api as smf"
   ]
  },
  {
   "cell_type": "markdown",
   "id": "9fab23bf-9047-4d5a-8a60-0f213a5e8b2f",
   "metadata": {},
   "source": [
    "### Settings"
   ]
  },
  {
   "cell_type": "code",
   "execution_count": 2,
   "id": "8d62f26f-8bd6-4b3f-8030-d4250d815488",
   "metadata": {},
   "outputs": [],
   "source": [
    "CREATE_REPORT = False"
   ]
  },
  {
   "cell_type": "code",
   "execution_count": 3,
   "id": "b9eb903d-8202-4c48-ad3d-f5f91b8cf08a",
   "metadata": {},
   "outputs": [],
   "source": [
    "TEMP_PATH=os.path.join(\"temp\")"
   ]
  },
  {
   "cell_type": "code",
   "execution_count": 4,
   "id": "387cce74-d979-4386-966e-a0e237bb8f5c",
   "metadata": {},
   "outputs": [],
   "source": [
    "PATH_RESEARCH = os.path.join (\"input\", \"research_dataset.csv\")"
   ]
  },
  {
   "cell_type": "code",
   "execution_count": 5,
   "id": "58b4ac42-269e-4673-a0b9-5c655a93379f",
   "metadata": {},
   "outputs": [],
   "source": [
    "research_df = pd.read_csv(os.path.join(PATH_RESEARCH))"
   ]
  },
  {
   "cell_type": "markdown",
   "id": "ac56cb6f-f8b8-49e7-9f1a-503dd2923a57",
   "metadata": {},
   "source": [
    "### Überblick"
   ]
  },
  {
   "cell_type": "code",
   "execution_count": 6,
   "id": "8804ea62-189f-40e3-8878-a145d4d75022",
   "metadata": {},
   "outputs": [
    {
     "data": {
      "text/html": [
       "<div>\n",
       "<style scoped>\n",
       "    .dataframe tbody tr th:only-of-type {\n",
       "        vertical-align: middle;\n",
       "    }\n",
       "\n",
       "    .dataframe tbody tr th {\n",
       "        vertical-align: top;\n",
       "    }\n",
       "\n",
       "    .dataframe thead th {\n",
       "        text-align: right;\n",
       "    }\n",
       "</style>\n",
       "<table border=\"1\" class=\"dataframe\">\n",
       "  <thead>\n",
       "    <tr style=\"text-align: right;\">\n",
       "      <th></th>\n",
       "      <th>sales_calls</th>\n",
       "      <th>interactions</th>\n",
       "      <th>economy</th>\n",
       "      <th>last_upgrade</th>\n",
       "      <th>discount</th>\n",
       "      <th>monthly_usage</th>\n",
       "      <th>ad_spend</th>\n",
       "      <th>bugs_reported</th>\n",
       "      <th>did_renew</th>\n",
       "    </tr>\n",
       "  </thead>\n",
       "  <tbody>\n",
       "    <tr>\n",
       "      <th>1973</th>\n",
       "      <td>1.0</td>\n",
       "      <td>1.0</td>\n",
       "      <td>0.767839</td>\n",
       "      <td>11.445045</td>\n",
       "      <td>0.238496</td>\n",
       "      <td>0.177529</td>\n",
       "      <td>0.173749</td>\n",
       "      <td>0.0</td>\n",
       "      <td>1</td>\n",
       "    </tr>\n",
       "    <tr>\n",
       "      <th>8872</th>\n",
       "      <td>1.0</td>\n",
       "      <td>1.0</td>\n",
       "      <td>0.330450</td>\n",
       "      <td>19.716330</td>\n",
       "      <td>0.059828</td>\n",
       "      <td>0.601333</td>\n",
       "      <td>0.569968</td>\n",
       "      <td>0.0</td>\n",
       "      <td>1</td>\n",
       "    </tr>\n",
       "    <tr>\n",
       "      <th>3007</th>\n",
       "      <td>0.0</td>\n",
       "      <td>0.0</td>\n",
       "      <td>0.097121</td>\n",
       "      <td>11.527038</td>\n",
       "      <td>0.347345</td>\n",
       "      <td>0.586677</td>\n",
       "      <td>0.579821</td>\n",
       "      <td>1.0</td>\n",
       "      <td>0</td>\n",
       "    </tr>\n",
       "    <tr>\n",
       "      <th>166</th>\n",
       "      <td>0.0</td>\n",
       "      <td>0.0</td>\n",
       "      <td>0.052594</td>\n",
       "      <td>16.564880</td>\n",
       "      <td>0.146250</td>\n",
       "      <td>0.595012</td>\n",
       "      <td>0.543459</td>\n",
       "      <td>0.0</td>\n",
       "      <td>1</td>\n",
       "    </tr>\n",
       "    <tr>\n",
       "      <th>402</th>\n",
       "      <td>0.0</td>\n",
       "      <td>0.0</td>\n",
       "      <td>0.549278</td>\n",
       "      <td>7.229999</td>\n",
       "      <td>0.214745</td>\n",
       "      <td>0.384014</td>\n",
       "      <td>0.360446</td>\n",
       "      <td>0.0</td>\n",
       "      <td>0</td>\n",
       "    </tr>\n",
       "    <tr>\n",
       "      <th>8499</th>\n",
       "      <td>0.0</td>\n",
       "      <td>0.0</td>\n",
       "      <td>0.455523</td>\n",
       "      <td>6.079297</td>\n",
       "      <td>0.344175</td>\n",
       "      <td>0.147237</td>\n",
       "      <td>0.139871</td>\n",
       "      <td>1.0</td>\n",
       "      <td>0</td>\n",
       "    </tr>\n",
       "    <tr>\n",
       "      <th>8800</th>\n",
       "      <td>3.0</td>\n",
       "      <td>4.0</td>\n",
       "      <td>0.019418</td>\n",
       "      <td>18.340614</td>\n",
       "      <td>0.309332</td>\n",
       "      <td>0.586250</td>\n",
       "      <td>0.553153</td>\n",
       "      <td>0.0</td>\n",
       "      <td>0</td>\n",
       "    </tr>\n",
       "    <tr>\n",
       "      <th>1028</th>\n",
       "      <td>4.0</td>\n",
       "      <td>4.0</td>\n",
       "      <td>0.824815</td>\n",
       "      <td>7.107270</td>\n",
       "      <td>0.305048</td>\n",
       "      <td>0.638884</td>\n",
       "      <td>0.599314</td>\n",
       "      <td>1.0</td>\n",
       "      <td>1</td>\n",
       "    </tr>\n",
       "    <tr>\n",
       "      <th>7410</th>\n",
       "      <td>3.0</td>\n",
       "      <td>3.0</td>\n",
       "      <td>0.539627</td>\n",
       "      <td>6.476009</td>\n",
       "      <td>0.189164</td>\n",
       "      <td>0.923516</td>\n",
       "      <td>0.843454</td>\n",
       "      <td>1.0</td>\n",
       "      <td>1</td>\n",
       "    </tr>\n",
       "    <tr>\n",
       "      <th>4675</th>\n",
       "      <td>2.0</td>\n",
       "      <td>2.0</td>\n",
       "      <td>0.782446</td>\n",
       "      <td>11.727603</td>\n",
       "      <td>0.294760</td>\n",
       "      <td>0.781094</td>\n",
       "      <td>0.714722</td>\n",
       "      <td>1.0</td>\n",
       "      <td>1</td>\n",
       "    </tr>\n",
       "  </tbody>\n",
       "</table>\n",
       "</div>"
      ],
      "text/plain": [
       "      sales_calls  interactions   economy  last_upgrade  discount  \\\n",
       "1973          1.0           1.0  0.767839     11.445045  0.238496   \n",
       "8872          1.0           1.0  0.330450     19.716330  0.059828   \n",
       "3007          0.0           0.0  0.097121     11.527038  0.347345   \n",
       "166           0.0           0.0  0.052594     16.564880  0.146250   \n",
       "402           0.0           0.0  0.549278      7.229999  0.214745   \n",
       "8499          0.0           0.0  0.455523      6.079297  0.344175   \n",
       "8800          3.0           4.0  0.019418     18.340614  0.309332   \n",
       "1028          4.0           4.0  0.824815      7.107270  0.305048   \n",
       "7410          3.0           3.0  0.539627      6.476009  0.189164   \n",
       "4675          2.0           2.0  0.782446     11.727603  0.294760   \n",
       "\n",
       "      monthly_usage  ad_spend  bugs_reported  did_renew  \n",
       "1973       0.177529  0.173749            0.0          1  \n",
       "8872       0.601333  0.569968            0.0          1  \n",
       "3007       0.586677  0.579821            1.0          0  \n",
       "166        0.595012  0.543459            0.0          1  \n",
       "402        0.384014  0.360446            0.0          0  \n",
       "8499       0.147237  0.139871            1.0          0  \n",
       "8800       0.586250  0.553153            0.0          0  \n",
       "1028       0.638884  0.599314            1.0          1  \n",
       "7410       0.923516  0.843454            1.0          1  \n",
       "4675       0.781094  0.714722            1.0          1  "
      ]
     },
     "execution_count": 6,
     "metadata": {},
     "output_type": "execute_result"
    }
   ],
   "source": [
    "research_df.sample(10)"
   ]
  },
  {
   "cell_type": "code",
   "execution_count": 7,
   "id": "ea03cb3c-fc12-4869-876e-67565a1d7a5b",
   "metadata": {},
   "outputs": [
    {
     "name": "stdout",
     "output_type": "stream",
     "text": [
      "<class 'pandas.core.frame.DataFrame'>\n",
      "RangeIndex: 10000 entries, 0 to 9999\n",
      "Data columns (total 9 columns):\n",
      " #   Column         Non-Null Count  Dtype  \n",
      "---  ------         --------------  -----  \n",
      " 0   sales_calls    10000 non-null  float64\n",
      " 1   interactions   10000 non-null  float64\n",
      " 2   economy        10000 non-null  float64\n",
      " 3   last_upgrade   10000 non-null  float64\n",
      " 4   discount       10000 non-null  float64\n",
      " 5   monthly_usage  10000 non-null  float64\n",
      " 6   ad_spend       10000 non-null  float64\n",
      " 7   bugs_reported  10000 non-null  float64\n",
      " 8   did_renew      10000 non-null  int64  \n",
      "dtypes: float64(8), int64(1)\n",
      "memory usage: 703.2 KB\n"
     ]
    }
   ],
   "source": [
    "research_df.info()"
   ]
  },
  {
   "cell_type": "code",
   "execution_count": 8,
   "id": "34b27372-baeb-4e20-8229-ad09570a0c4e",
   "metadata": {},
   "outputs": [
    {
     "data": {
      "text/plain": [
       "(10000, 9)"
      ]
     },
     "execution_count": 8,
     "metadata": {},
     "output_type": "execute_result"
    }
   ],
   "source": [
    "research_df.shape"
   ]
  },
  {
   "cell_type": "code",
   "execution_count": 9,
   "id": "8e2f0683-6d6c-48f4-a016-54869eb96638",
   "metadata": {},
   "outputs": [],
   "source": [
    "#research_df.describe()"
   ]
  },
  {
   "cell_type": "markdown",
   "id": "edbdf489-6afd-4dc5-adf2-c1b1d6c80547",
   "metadata": {},
   "source": [
    "### Missing Values"
   ]
  },
  {
   "cell_type": "code",
   "execution_count": 10,
   "id": "2d4edf95-3921-468e-a3c2-15fb9aa019b6",
   "metadata": {},
   "outputs": [
    {
     "data": {
      "text/html": [
       "<div>\n",
       "<style scoped>\n",
       "    .dataframe tbody tr th:only-of-type {\n",
       "        vertical-align: middle;\n",
       "    }\n",
       "\n",
       "    .dataframe tbody tr th {\n",
       "        vertical-align: top;\n",
       "    }\n",
       "\n",
       "    .dataframe thead th {\n",
       "        text-align: right;\n",
       "    }\n",
       "</style>\n",
       "<table border=\"1\" class=\"dataframe\">\n",
       "  <thead>\n",
       "    <tr style=\"text-align: right;\">\n",
       "      <th></th>\n",
       "      <th>sales_calls</th>\n",
       "      <th>interactions</th>\n",
       "      <th>economy</th>\n",
       "      <th>last_upgrade</th>\n",
       "      <th>discount</th>\n",
       "      <th>monthly_usage</th>\n",
       "      <th>ad_spend</th>\n",
       "      <th>bugs_reported</th>\n",
       "      <th>did_renew</th>\n",
       "    </tr>\n",
       "  </thead>\n",
       "  <tbody>\n",
       "  </tbody>\n",
       "</table>\n",
       "</div>"
      ],
      "text/plain": [
       "Empty DataFrame\n",
       "Columns: [sales_calls, interactions, economy, last_upgrade, discount, monthly_usage, ad_spend, bugs_reported, did_renew]\n",
       "Index: []"
      ]
     },
     "execution_count": 10,
     "metadata": {},
     "output_type": "execute_result"
    }
   ],
   "source": [
    "research_df[research_df.duplicated()==True]"
   ]
  },
  {
   "cell_type": "code",
   "execution_count": 11,
   "id": "0d9d47ff-5c7c-4f63-bd80-c16c7aab3af5",
   "metadata": {},
   "outputs": [
    {
     "data": {
      "text/plain": [
       "sales_calls      0\n",
       "interactions     0\n",
       "economy          0\n",
       "last_upgrade     0\n",
       "discount         0\n",
       "monthly_usage    0\n",
       "ad_spend         0\n",
       "bugs_reported    0\n",
       "did_renew        0\n",
       "dtype: int64"
      ]
     },
     "execution_count": 11,
     "metadata": {},
     "output_type": "execute_result"
    }
   ],
   "source": [
    "research_df.isnull().sum()"
   ]
  },
  {
   "cell_type": "markdown",
   "id": "60f8b7eb-6cbf-417e-9be5-59de0f0ec70c",
   "metadata": {},
   "source": [
    "### Profiling Report"
   ]
  },
  {
   "cell_type": "code",
   "execution_count": 12,
   "id": "97ab0eee-67c6-4e39-b9ec-2bb3522055dd",
   "metadata": {},
   "outputs": [],
   "source": [
    "if CREATE_REPORT:\n",
    "    ges_research = sv.analyze(research_df)\n",
    "    ges_research.show_html(os.path.join(TEMP_PATH, 'ges_research.html'))"
   ]
  },
  {
   "cell_type": "markdown",
   "id": "8a5826ea-0816-4180-b7be-3cfaff7771c3",
   "metadata": {},
   "source": [
    "* discount wird nach Gefühl vergeben, wenn die Mitarbeiter denken, die Kunden würden sonst abspringen, aber mit discount ggf überredet werden können\n",
    "* monthly_usage: intensität in der die Software genutzt wird pro Monat, normalisiert\n",
    "* bugs_reported: engagement, je mehr die Software dem Kunden wert ist, desto eher werden bugs reported\n",
    "* did_renew: relativ viele Kunden erneuern den Vertrag nicht"
   ]
  },
  {
   "cell_type": "markdown",
   "id": "3faa9490-7d7c-4408-b892-4a7d67d3f944",
   "metadata": {},
   "source": [
    "### Zusammenhänge"
   ]
  },
  {
   "cell_type": "code",
   "execution_count": 13,
   "id": "63078de9-8695-4f11-b3c9-c4b04b8b8c23",
   "metadata": {},
   "outputs": [
    {
     "data": {
      "image/png": "[encoded data removed]",
      "text/plain": [
       "<Figure size 640x480 with 2 Axes>"
      ]
     },
     "metadata": {},
     "output_type": "display_data"
    }
   ],
   "source": [
    "sns.heatmap(research_df.corr().round(2), cmap=\"RdBu\")\n",
    "plt.tight_layout()"
   ]
  },
  {
   "cell_type": "code",
   "execution_count": 14,
   "id": "1784e4b8-ea99-40aa-827b-e12e10ca94be",
   "metadata": {},
   "outputs": [
    {
     "data": {
      "text/plain": [
       "interactions\n",
       "2.0    2544\n",
       "3.0    2419\n",
       "1.0    2229\n",
       "4.0    1500\n",
       "0.0    1038\n",
       "5.0     250\n",
       "6.0      16\n",
       "7.0       4\n",
       "Name: count, dtype: int64"
      ]
     },
     "execution_count": 14,
     "metadata": {},
     "output_type": "execute_result"
    }
   ],
   "source": [
    "research_df[\"interactions\"].value_counts()"
   ]
  },
  {
   "cell_type": "code",
   "execution_count": 15,
   "id": "b911f979-34ce-44a9-8225-a511589147c2",
   "metadata": {},
   "outputs": [
    {
     "data": {
      "text/plain": [
       "0.23892100192678228"
      ]
     },
     "execution_count": 15,
     "metadata": {},
     "output_type": "execute_result"
    }
   ],
   "source": [
    "rowSel = research_df[\"interactions\"] == 0\n",
    "research_df.loc[rowSel, \"did_renew\"].mean()"
   ]
  },
  {
   "cell_type": "code",
   "execution_count": 16,
   "id": "cc711e76-cdd2-4bbc-8149-773f9823cbb0",
   "metadata": {},
   "outputs": [
    {
     "data": {
      "text/plain": [
       "0.31209551439410843"
      ]
     },
     "execution_count": 16,
     "metadata": {},
     "output_type": "execute_result"
    }
   ],
   "source": [
    "research_df.loc[~rowSel, \"did_renew\"].mean()"
   ]
  },
  {
   "cell_type": "code",
   "execution_count": 17,
   "id": "ed4cbbc8-1664-4f01-ac20-56b9922bd87f",
   "metadata": {},
   "outputs": [
    {
     "data": {
      "text/plain": [
       "<Axes: xlabel='did_renew'>"
      ]
     },
     "execution_count": 17,
     "metadata": {},
     "output_type": "execute_result"
    },
    {
     "data": {
      "image/png": "[encoded data removed]",
      "text/plain": [
       "<Figure size 640x480 with 1 Axes>"
      ]
     },
     "metadata": {},
     "output_type": "display_data"
    }
   ],
   "source": [
    "x = research_df[\"did_renew\"].value_counts()\n",
    "x.plot.bar()"
   ]
  },
  {
   "cell_type": "code",
   "execution_count": 18,
   "id": "e42d41a0-1e5c-4a39-8a4b-882a48cff817",
   "metadata": {},
   "outputs": [
    {
     "data": {
      "text/plain": [
       "<Axes: xlabel='did_renew', ylabel='Count'>"
      ]
     },
     "execution_count": 18,
     "metadata": {},
     "output_type": "execute_result"
    },
    {
     "data": {
      "image/png": "[encoded data removed]",
      "text/plain": [
       "<Figure size 1300x500 with 3 Axes>"
      ]
     },
     "metadata": {},
     "output_type": "display_data"
    }
   ],
   "source": [
    "fig, ax = plt.subplots(1, 3, figsize= [13, 5])\n",
    "sns.histplot(data=research_df, x = \"discount\", ax = ax[0])\n",
    "sns.histplot(data=research_df, x = \"sales_calls\", ax = ax[1])\n",
    "sns.histplot(data=research_df, x = \"did_renew\", ax = ax[2])"
   ]
  },
  {
   "cell_type": "code",
   "execution_count": 19,
   "id": "9a2bef21-739d-40ba-b486-4309aa49bf44",
   "metadata": {},
   "outputs": [
    {
     "data": {
      "text/html": [
       "<div>\n",
       "<style scoped>\n",
       "    .dataframe tbody tr th:only-of-type {\n",
       "        vertical-align: middle;\n",
       "    }\n",
       "\n",
       "    .dataframe tbody tr th {\n",
       "        vertical-align: top;\n",
       "    }\n",
       "\n",
       "    .dataframe thead th {\n",
       "        text-align: right;\n",
       "    }\n",
       "</style>\n",
       "<table border=\"1\" class=\"dataframe\">\n",
       "  <thead>\n",
       "    <tr style=\"text-align: right;\">\n",
       "      <th>interactions</th>\n",
       "      <th>0.0</th>\n",
       "      <th>1.0</th>\n",
       "      <th>2.0</th>\n",
       "      <th>3.0</th>\n",
       "      <th>4.0</th>\n",
       "      <th>5.0</th>\n",
       "      <th>6.0</th>\n",
       "      <th>7.0</th>\n",
       "    </tr>\n",
       "    <tr>\n",
       "      <th>sales_calls</th>\n",
       "      <th></th>\n",
       "      <th></th>\n",
       "      <th></th>\n",
       "      <th></th>\n",
       "      <th></th>\n",
       "      <th></th>\n",
       "      <th></th>\n",
       "      <th></th>\n",
       "    </tr>\n",
       "  </thead>\n",
       "  <tbody>\n",
       "    <tr>\n",
       "      <th>0.0</th>\n",
       "      <td>1038</td>\n",
       "      <td>231</td>\n",
       "      <td>23</td>\n",
       "      <td>1</td>\n",
       "      <td>0</td>\n",
       "      <td>0</td>\n",
       "      <td>0</td>\n",
       "      <td>0</td>\n",
       "    </tr>\n",
       "    <tr>\n",
       "      <th>1.0</th>\n",
       "      <td>0</td>\n",
       "      <td>1998</td>\n",
       "      <td>432</td>\n",
       "      <td>41</td>\n",
       "      <td>7</td>\n",
       "      <td>0</td>\n",
       "      <td>0</td>\n",
       "      <td>0</td>\n",
       "    </tr>\n",
       "    <tr>\n",
       "      <th>2.0</th>\n",
       "      <td>0</td>\n",
       "      <td>0</td>\n",
       "      <td>2089</td>\n",
       "      <td>411</td>\n",
       "      <td>39</td>\n",
       "      <td>4</td>\n",
       "      <td>0</td>\n",
       "      <td>0</td>\n",
       "    </tr>\n",
       "    <tr>\n",
       "      <th>3.0</th>\n",
       "      <td>0</td>\n",
       "      <td>0</td>\n",
       "      <td>0</td>\n",
       "      <td>1966</td>\n",
       "      <td>412</td>\n",
       "      <td>50</td>\n",
       "      <td>0</td>\n",
       "      <td>1</td>\n",
       "    </tr>\n",
       "    <tr>\n",
       "      <th>4.0</th>\n",
       "      <td>0</td>\n",
       "      <td>0</td>\n",
       "      <td>0</td>\n",
       "      <td>0</td>\n",
       "      <td>1042</td>\n",
       "      <td>196</td>\n",
       "      <td>16</td>\n",
       "      <td>3</td>\n",
       "    </tr>\n",
       "  </tbody>\n",
       "</table>\n",
       "</div>"
      ],
      "text/plain": [
       "interactions   0.0   1.0   2.0   3.0   4.0  5.0  6.0  7.0\n",
       "sales_calls                                              \n",
       "0.0           1038   231    23     1     0    0    0    0\n",
       "1.0              0  1998   432    41     7    0    0    0\n",
       "2.0              0     0  2089   411    39    4    0    0\n",
       "3.0              0     0     0  1966   412   50    0    1\n",
       "4.0              0     0     0     0  1042  196   16    3"
      ]
     },
     "execution_count": 19,
     "metadata": {},
     "output_type": "execute_result"
    }
   ],
   "source": [
    "pd.crosstab(research_df[\"sales_calls\"], research_df[\"interactions\"])"
   ]
  },
  {
   "cell_type": "code",
   "execution_count": 20,
   "id": "120ec077-abcc-485f-9aa2-d69c20d1d7ba",
   "metadata": {},
   "outputs": [
    {
     "data": {
      "text/html": [
       "<div>\n",
       "<style scoped>\n",
       "    .dataframe tbody tr th:only-of-type {\n",
       "        vertical-align: middle;\n",
       "    }\n",
       "\n",
       "    .dataframe tbody tr th {\n",
       "        vertical-align: top;\n",
       "    }\n",
       "\n",
       "    .dataframe thead th {\n",
       "        text-align: right;\n",
       "    }\n",
       "</style>\n",
       "<table border=\"1\" class=\"dataframe\">\n",
       "  <thead>\n",
       "    <tr style=\"text-align: right;\">\n",
       "      <th></th>\n",
       "      <th>did_renew</th>\n",
       "    </tr>\n",
       "    <tr>\n",
       "      <th>sales_calls</th>\n",
       "      <th></th>\n",
       "    </tr>\n",
       "  </thead>\n",
       "  <tbody>\n",
       "    <tr>\n",
       "      <th>0.0</th>\n",
       "      <td>0.238979</td>\n",
       "    </tr>\n",
       "    <tr>\n",
       "      <th>1.0</th>\n",
       "      <td>0.265133</td>\n",
       "    </tr>\n",
       "    <tr>\n",
       "      <th>2.0</th>\n",
       "      <td>0.309477</td>\n",
       "    </tr>\n",
       "    <tr>\n",
       "      <th>3.0</th>\n",
       "      <td>0.337999</td>\n",
       "    </tr>\n",
       "    <tr>\n",
       "      <th>4.0</th>\n",
       "      <td>0.374702</td>\n",
       "    </tr>\n",
       "  </tbody>\n",
       "</table>\n",
       "</div>"
      ],
      "text/plain": [
       "             did_renew\n",
       "sales_calls           \n",
       "0.0           0.238979\n",
       "1.0           0.265133\n",
       "2.0           0.309477\n",
       "3.0           0.337999\n",
       "4.0           0.374702"
      ]
     },
     "execution_count": 20,
     "metadata": {},
     "output_type": "execute_result"
    }
   ],
   "source": [
    "table = pd.pivot_table(data=research_df, index=\"sales_calls\", values=\"did_renew\", aggfunc=\"mean\")\n",
    "#did renew wird hier als prozent angegeben\n",
    "table"
   ]
  },
  {
   "cell_type": "code",
   "execution_count": 21,
   "id": "837426ab-289c-4fed-8ed6-c8f43a207b4d",
   "metadata": {},
   "outputs": [
    {
     "data": {
      "text/plain": [
       "<Axes: xlabel='sales_calls'>"
      ]
     },
     "execution_count": 21,
     "metadata": {},
     "output_type": "execute_result"
    },
    {
     "data": {
      "image/png": "[encoded data removed]",
      "text/plain": [
       "<Figure size 640x480 with 1 Axes>"
      ]
     },
     "metadata": {},
     "output_type": "display_data"
    }
   ],
   "source": [
    "table.plot.bar()\n",
    "#je mehr anrufe desto höher die Rate der Verlängerung..."
   ]
  },
  {
   "cell_type": "markdown",
   "id": "694eb8f8-457b-4db5-82d1-1eeee982719e",
   "metadata": {},
   "source": [
    "### statsmodels"
   ]
  },
  {
   "cell_type": "code",
   "execution_count": 22,
   "id": "dfc7dc01-8a82-430f-a983-3d3e07778d9a",
   "metadata": {},
   "outputs": [
    {
     "name": "stdout",
     "output_type": "stream",
     "text": [
      "Optimization terminated successfully.\n",
      "         Current function value: 0.610310\n",
      "         Iterations 5\n",
      "                           Logit Regression Results                           \n",
      "==============================================================================\n",
      "Dep. Variable:              did_renew   No. Observations:                10000\n",
      "Model:                          Logit   Df Residuals:                     9998\n",
      "Method:                           MLE   Df Model:                            1\n",
      "Date:                Fri, 22 Nov 2024   Pseudo R-squ.:                0.007027\n",
      "Time:                        15:42:30   Log-Likelihood:                -6103.1\n",
      "converged:                       True   LL-Null:                       -6146.3\n",
      "Covariance Type:            nonrobust   LLR p-value:                 1.488e-20\n",
      "===============================================================================\n",
      "                  coef    std err          z      P>|z|      [0.025      0.975]\n",
      "-------------------------------------------------------------------------------\n",
      "Intercept      -1.1622      0.043    -26.936      0.000      -1.247      -1.078\n",
      "sales_calls     0.1651      0.018      9.248      0.000       0.130       0.200\n",
      "===============================================================================\n"
     ]
    }
   ],
   "source": [
    "m = smf.logit(\"did_renew ~sales_calls\", data = research_df).fit()\n",
    "print (m.summary())"
   ]
  },
  {
   "cell_type": "code",
   "execution_count": 23,
   "id": "95a4f848-1ee1-42e7-be35-df7678fbeec3",
   "metadata": {},
   "outputs": [
    {
     "name": "stdout",
     "output_type": "stream",
     "text": [
      "Optimization terminated successfully.\n",
      "         Current function value: 0.561560\n",
      "         Iterations 6\n",
      "                           Logit Regression Results                           \n",
      "==============================================================================\n",
      "Dep. Variable:              did_renew   No. Observations:                10000\n",
      "Model:                          Logit   Df Residuals:                     9994\n",
      "Method:                           MLE   Df Model:                            5\n",
      "Date:                Fri, 22 Nov 2024   Pseudo R-squ.:                 0.08634\n",
      "Time:                        15:42:30   Log-Likelihood:                -5615.6\n",
      "converged:                       True   LL-Null:                       -6146.3\n",
      "Covariance Type:            nonrobust   LLR p-value:                3.081e-227\n",
      "=================================================================================\n",
      "                    coef    std err          z      P>|z|      [0.025      0.975]\n",
      "---------------------------------------------------------------------------------\n",
      "Intercept        -0.2654      0.113     -2.349      0.019      -0.487      -0.044\n",
      "sales_calls       0.1521      0.019      8.099      0.000       0.115       0.189\n",
      "last_upgrade     -0.0472      0.004    -11.686      0.000      -0.055      -0.039\n",
      "economy           0.6262      0.080      7.845      0.000       0.470       0.783\n",
      "discount         -6.1752      0.271    -22.783      0.000      -6.706      -5.644\n",
      "monthly_usage     1.3091      0.110     11.917      0.000       1.094       1.524\n",
      "=================================================================================\n"
     ]
    }
   ],
   "source": [
    "m = smf.logit(\"did_renew ~sales_calls + last_upgrade + economy + discount + monthly_usage\", data = research_df).fit()\n",
    "print (m.summary())"
   ]
  },
  {
   "cell_type": "code",
   "execution_count": null,
   "id": "8ea5465d-052b-482f-9f0b-cff361be6fde",
   "metadata": {},
   "outputs": [],
   "source": []
  }
 ],
 "metadata": {
  "kernelspec": {
   "display_name": "Python 3 (ipykernel)",
   "language": "python",
   "name": "python3"
  },
  "language_info": {
   "codemirror_mode": {
    "name": "ipython",
    "version": 3
   },
   "file_extension": ".py",
   "mimetype": "text/x-python",
   "name": "python",
   "nbconvert_exporter": "python",
   "pygments_lexer": "ipython3",
   "version": "3.10.7"
  }
 },
 "nbformat": 4,
 "nbformat_minor": 5
}
